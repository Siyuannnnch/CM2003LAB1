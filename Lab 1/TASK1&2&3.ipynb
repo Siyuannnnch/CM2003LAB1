{
 "cells": [
  {
   "cell_type": "markdown",
   "metadata": {},
   "source": [
    "TASK 1 Learning the logic operators"
   ]
  },
  {
   "cell_type": "code",
   "execution_count": 2,
   "metadata": {},
   "outputs": [],
   "source": [
    "# Logic Operator\n",
    "import numpy as np\n",
    "import matplotlib.pyplot as plt"
   ]
  },
  {
   "cell_type": "code",
   "execution_count": 3,
   "metadata": {},
   "outputs": [],
   "source": [
    "# Sigmoid function\n",
    "def sigmoid(x):\n",
    "    return 1.0/(1+ np.exp(-x))"
   ]
  },
  {
   "cell_type": "code",
   "execution_count": 4,
   "metadata": {},
   "outputs": [],
   "source": [
    "# derivative of Sigmoid function for backprop.\n",
    "def sigmoid_derivative(x):\n",
    "    return x * (1.0 - x)"
   ]
  },
  {
   "cell_type": "code",
   "execution_count": 5,
   "metadata": {},
   "outputs": [],
   "source": [
    "class NeuralNetwork:\n",
    "    def __init__(self, x, y, N):\n",
    "        self.input = x\n",
    "        self.neuron = N\n",
    "        self.weights1 = np.random.rand(self.input.shape[1], self.neuron) # X dimension input connected to N neurons\n",
    "        self.weights2 = np.random.rand(self.neuron, 1) # N neurons connected to output\n",
    "        self.y = y\n",
    "        self.output = np.zeros(self.y.shape) # instantiating the output\n",
    "    def feedforward(self):\n",
    "          self.layer1 = sigmoid(np.dot(self.input, self.weights1))\n",
    "          self.output = sigmoid(np.dot(self.layer1, self.weights2))\n",
    "    def backprop(self):\n",
    "     # Chain rule to calculate derivative of the loss function with respect to weights2 and weights1\n",
    "        d_weights2 = np.dot(self.layer1.T, (2*(self.y - self.output) * sigmoid_derivative(self.output)))\n",
    "\n",
    "        d_weights1 = np.dot(self.input.T,(np.dot(2 * (self.y - self.output) * sigmoid_derivative(self.output), self.weights2.T) * sigmoid_derivative(self.layer1)))\n",
    "     # weights updating\n",
    "        self.weights1 += d_weights1\n",
    "        self.weights2 += d_weights2"
   ]
  },
  {
   "cell_type": "code",
   "execution_count": 6,
   "metadata": {},
   "outputs": [],
   "source": [
    "iterations = 2000 # 10 50 100 500 2000\n",
    "n_unit = 1 # 1 2 5 10\n",
    "if __name__ == \"__main__\":\n",
    "\n",
    "    Input = np.array([[0, 0, 1],   # example\n",
    "                      [0, 1, 1],\n",
    "                      [1, 0, 1],\n",
    "                      [1, 1, 1]])\n",
    "    Target = np.array([[0], [0], [0], [1]])\n",
    "\n",
    "\n",
    "    model = NeuralNetwork(Input, Target, n_unit)\n",
    "\n",
    "    SSD = []\n",
    "    for i in range(iterations):\n",
    "        model.feedforward()\n",
    "        model.backprop()\n",
    "        errors = (Target - model.output) ** 2\n",
    "        SSD.append(np.sum(errors))  # Objective(loss) function\n",
    "\n",
    "    Itr = np.linspace(1, len(SSD), len(SSD))"
   ]
  },
  {
   "cell_type": "code",
   "execution_count": 7,
   "metadata": {},
   "outputs": [
    {
     "data": {
      "image/png": "[encoded data removed]",
      "text/plain": [
       "<Figure size 432x288 with 1 Axes>"
      ]
     },
     "metadata": {
      "needs_background": "light"
     },
     "output_type": "display_data"
    },
    {
     "name": "stdout",
     "output_type": "stream",
     "text": [
      "The Weight1 is: [[-6.98985147]\n",
      " [-6.98985147]\n",
      " [ 7.05040205]]\n",
      "The Weight2 is: [[-7.72576364]]\n",
      "The target values are: [[0]\n",
      " [0]\n",
      " [0]\n",
      " [1]]\n",
      "The predicted values are: [[4.44271379e-04]\n",
      " [1.83519430e-02]\n",
      " [1.83519430e-02]\n",
      " [4.98110596e-01]]\n"
     ]
    }
   ],
   "source": [
    "    plt.plot(Itr, SSD)\n",
    "    plt.xlabel('Iterations')\n",
    "    plt.ylabel('SSD')\n",
    "    plt.show()\n",
    "\n",
    "    print(\"The Weight1 is:\", model.weights1)\n",
    "    print(\"The Weight2 is:\", model.weights2)\n",
    "\n",
    "    print(\"The target values are:\", Target)\n",
    "    print(\"The predicted values are:\", model.output)\n"
   ]
  },
  {
   "cell_type": "code",
   "execution_count": 16,
   "metadata": {},
   "outputs": [],
   "source": [
    "iterations = 20000 # 10 50 100 500 2000\n",
    "n_unit = 5 # 1 2 5 10"
   ]
  },
  {
   "cell_type": "code",
   "execution_count": 17,
   "metadata": {},
   "outputs": [],
   "source": [
    "    Input = np.array([[0, 0],   # XOR\n",
    "                      [0, 1],\n",
    "                      [1, 0],\n",
    "                      [1, 1]])\n",
    "    Target = np.array([[0], [1], [1], [0]])\n",
    "\n",
    "    # Input = np.array([[0, 0],   # AND\n",
    "    #                   [0, 1],\n",
    "    #                   [1, 0],\n",
    "    #                   [1, 1]])\n",
    "    # Target = np.array([[0], [0], [0], [1]])"
   ]
  },
  {
   "cell_type": "code",
   "execution_count": 18,
   "metadata": {},
   "outputs": [],
   "source": [
    "\n",
    "    model = NeuralNetwork(Input, Target, n_unit)\n",
    "\n",
    "    SSD = []\n",
    "    for i in range(iterations):\n",
    "        model.feedforward()\n",
    "        model.backprop()\n",
    "        errors = (Target - model.output) ** 2\n",
    "        SSD.append(np.sum(errors))  # Objective(loss) function\n",
    "\n",
    "    Itr = np.linspace(1, len(SSD), len(SSD))"
   ]
  },
  {
   "cell_type": "code",
   "execution_count": 19,
   "metadata": {},
   "outputs": [
    {
     "data": {
      "image/png": "[encoded data removed]",
      "text/plain": [
       "<Figure size 432x288 with 1 Axes>"
      ]
     },
     "metadata": {
      "needs_background": "light"
     },
     "output_type": "display_data"
    },
    {
     "name": "stdout",
     "output_type": "stream",
     "text": [
      "The Weight1 is: [[-2.27408265 -2.34487599  7.73872173  5.68059747 -3.2113279 ]\n",
      " [-2.54938106  4.93053261 -3.83343531  5.78800435  6.67189806]]\n",
      "The Weight2 is: [[ -4.02530578]\n",
      " [ -4.53688629]\n",
      " [-11.2066805 ]\n",
      " [ 17.30842395]\n",
      " [ -7.331722  ]]\n",
      "The target values are: [[0]\n",
      " [1]\n",
      " [1]\n",
      " [0]]\n",
      "The predicted values are: [[0.00742054]\n",
      " [0.99260618]\n",
      " [0.99324918]\n",
      " [0.00645291]]\n"
     ]
    }
   ],
   "source": [
    "    plt.plot(Itr, SSD)\n",
    "    plt.xlabel('Iterations')\n",
    "    plt.ylabel('SSD')\n",
    "    plt.show()\n",
    "\n",
    "    print(\"The Weight1 is:\", model.weights1)\n",
    "    print(\"The Weight2 is:\", model.weights2)\n",
    "\n",
    "    print(\"The target values are:\", Target)\n",
    "    print(\"The predicted values are:\", model.output)\n"
   ]
  },
  {
   "cell_type": "markdown",
   "metadata": {},
   "source": [
    "TENSORFLOW \n",
    "Sequential API"
   ]
  },
  {
   "cell_type": "code",
   "execution_count": 15,
   "metadata": {},
   "outputs": [
    {
     "name": "stdout",
     "output_type": "stream",
     "text": [
      "The predicted class labels are: [[0.13353693]\n",
      " [0.9124092 ]\n",
      " [0.9126972 ]\n",
      " [0.07242104]]\n"
     ]
    }
   ],
   "source": [
    "import numpy as np\n",
    "from tensorflow.keras.models import Sequential\n",
    "from tensorflow.keras.layers import Dense\n",
    "from tensorflow.keras.optimizers import SGD\n",
    "Input = np.array([[0,0],[0,1],[1,0],[1,1]], \"float32\")\n",
    "Target = np.array([[0],[1],[1],[0]], \"float32\")\n",
    "n_unit = 10\n",
    "model = Sequential()\n",
    "model.add(Dense(n_unit, input_dim=2, activation='relu'))\n",
    "model.add(Dense(1, activation='sigmoid'))\n",
    "model.compile(loss='mean_squared_error',\n",
    "optimizer = SGD(lr = 0.01),\n",
    "metrics=['binary_accuracy'])\n",
    "model.fit(Input, Target, epochs = 20000, verbose=0)\n",
    "print(\"The predicted class labels are:\", model.predict(Input))"
   ]
  },
  {
   "cell_type": "code",
   "execution_count": null,
   "metadata": {},
   "outputs": [],
   "source": []
  }
 ],
 "metadata": {
  "kernelspec": {
   "display_name": "Python 3",
   "language": "python",
   "name": "python3"
  },
  "language_info": {
   "codemirror_mode": {
    "name": "ipython",
    "version": 3
   },
   "file_extension": ".py",
   "mimetype": "text/x-python",
   "name": "python",
   "nbconvert_exporter": "python",
   "pygments_lexer": "ipython3",
   "version": "3.5.2"
  }
 },
 "nbformat": 4,
 "nbformat_minor": 2
}
