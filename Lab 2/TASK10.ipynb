{
 "cells": [
  {
   "cell_type": "code",
   "execution_count": 15,
   "metadata": {},
   "outputs": [],
   "source": [
    "# Data Loader\n",
    "import os\n",
    "import numpy as np\n",
    "from random import shuffle\n",
    "from skimage.io import imread\n",
    "from skimage.transform import resize\n",
    "def gen_labels(im_name, pat1, pat2, pat3, pat4, pat5, pat6, pat7, pat8, pat9):\n",
    "    '''\n",
    "    Parameters\n",
    "    ----------\n",
    "    im_name : Str\n",
    "        The image file name.\n",
    "    pat1 : Str\n",
    "        A string pattern in the filename for 1st class, e.g \"C1_\"\n",
    "    pat2 : Str\n",
    "        A string pattern in the filename 2nd class, e.g, \"C2_\"\n",
    "    Returns\n",
    "    -------\n",
    "    Label : Numpy array        \n",
    "        Class label of the filename name based on its pattern.\n",
    "    '''\n",
    "    if pat1 in im_name:\n",
    "        label = np.array([0])\n",
    "    elif pat2 in im_name:\n",
    "        label = np.array([1])\n",
    "    elif pat3 in im_name:\n",
    "        label = np.array([2])\n",
    "    elif pat4 in im_name:\n",
    "        label = np.array([3])\n",
    "    elif pat5 in im_name:\n",
    "        label = np.array([4])\n",
    "    elif pat6 in im_name:\n",
    "        label = np.array([5])\n",
    "    elif pat7 in im_name:\n",
    "        label = np.array([6])\n",
    "    elif pat8 in im_name:\n",
    "        label = np.array([7])\n",
    "    elif pat9 in im_name:\n",
    "        label = np.array([8])\n",
    "        \n",
    "    return label\n",
    "\n",
    "\n",
    "def get_data(data_path, data_list, img_h, img_w):\n",
    "    \"\"\"\n",
    "    Parameters\n",
    "    ----------\n",
    "    train_data_path : Str\n",
    "        Path to the data directory\n",
    "    train_list : List\n",
    "        A list containing the name of the images.\n",
    "    img_h : Int\n",
    "        image height to be resized to.\n",
    "    img_w : Int\n",
    "        image width to be resized to.    \n",
    "    Returns\n",
    "    -------\n",
    "    img_labels : Nested List\n",
    "        A nested list containing the loaded images along with their\n",
    "        correcponding labels.\n",
    "    \"\"\"\n",
    "    img_labels = []      \n",
    "    for item in enumerate(data_list):\n",
    "        img = imread(os.path.join(data_path, item[1]), as_gray = True) # \"as_grey\"\n",
    "        img = resize(img, (img_h, img_w), anti_aliasing = True).astype('float32')\n",
    "        img_labels.append([np.array(img), gen_labels(item[1], 'C1_', 'C2_','C3_', 'C4_','C5_', 'C6_','C7_', 'C8_', 'C9_')])\n",
    "       \n",
    "        if item[0] % 100 == 0:\n",
    "             print('Reading: {0}/{1}  of train images'.format(item[0], len(data_list)))\n",
    "             \n",
    "    shuffle(img_labels)\n",
    "    return img_labels\n",
    "\n",
    "\n",
    "def get_data_arrays(nested_list, img_h, img_w):\n",
    "    \"\"\"\n",
    "    Parameters\n",
    "    ----------\n",
    "    nested_list : nested list\n",
    "        nested list of image arrays with corresponding class labels.\n",
    "    img_h : Int\n",
    "        Image height.\n",
    "    img_w : Int\n",
    "        Image width.\n",
    "    Returns\n",
    "    -------\n",
    "    img_arrays : Numpy array\n",
    "        4D Array with the size of (n_data,img_h,img_w, 1)\n",
    "    label_arrays : Numpy array\n",
    "        1D array with the size (n_data).\n",
    "    \"\"\"\n",
    "    img_arrays = np.zeros((len(nested_list), img_h, img_w), dtype = np.float32)\n",
    "    label_arrays = np.zeros((len(nested_list)), dtype = np.int32)\n",
    "    for ind in range(len(nested_list)):\n",
    "        img_arrays[ind] = nested_list[ind][0]\n",
    "        label_arrays[ind] = nested_list[ind][1]\n",
    "    img_arrays = np.expand_dims(img_arrays, axis =3)\n",
    "    return img_arrays, label_arrays\n",
    "\n",
    "\n",
    "def get_train_test_arrays(train_data_path, test_data_path, train_list,\n",
    "                          test_list, img_h, img_w):\n",
    "    \"\"\"\n",
    "    Get the directory to the train and test sets, the files names and\n",
    "    the size of the image and return the image and label arrays for\n",
    "    train and test sets.\n",
    "    \"\"\"\n",
    "   \n",
    "    train_data = get_data(train_data_path, train_list, img_h, img_w)\n",
    "    test_data = get_data(test_data_path, test_list, img_h, img_w)\n",
    "   \n",
    "    train_img, train_label =  get_data_arrays(train_data, img_h, img_w)\n",
    "    test_img, test_label = get_data_arrays(test_data, img_h, img_w)\n",
    "    del(train_data)\n",
    "    del(test_data)      \n",
    "    return train_img, test_img, train_label, test_label"
   ]
  },
  {
   "cell_type": "code",
   "execution_count": 16,
   "metadata": {},
   "outputs": [],
   "source": [
    "data_path = '/DL_course_data/Lab1/X_ray'\n",
    "\n",
    "test_idx = 20 # Change this value to try different test cases\n",
    "\n",
    "train_data_path = os.path.join(data_path, 'train')\n",
    "test_data_path = os.path.join(data_path, 'test')\n",
    "\n",
    "test_list = os.listdir(test_data_path)\n",
    "filename = os.path.join(test_data_path,test_list[test_idx])"
   ]
  },
  {
   "cell_type": "code",
   "execution_count": 17,
   "metadata": {},
   "outputs": [
    {
     "name": "stdout",
     "output_type": "stream",
     "text": [
      "Reading: 0/5780  of train images\n",
      "Reading: 100/5780  of train images\n",
      "Reading: 200/5780  of train images\n",
      "Reading: 300/5780  of train images\n",
      "Reading: 400/5780  of train images\n",
      "Reading: 500/5780  of train images\n",
      "Reading: 600/5780  of train images\n",
      "Reading: 700/5780  of train images\n",
      "Reading: 800/5780  of train images\n",
      "Reading: 900/5780  of train images\n",
      "Reading: 1000/5780  of train images\n",
      "Reading: 1100/5780  of train images\n",
      "Reading: 1200/5780  of train images\n",
      "Reading: 1300/5780  of train images\n",
      "Reading: 1400/5780  of train images\n",
      "Reading: 1500/5780  of train images\n",
      "Reading: 1600/5780  of train images\n",
      "Reading: 1700/5780  of train images\n",
      "Reading: 1800/5780  of train images\n",
      "Reading: 1900/5780  of train images\n",
      "Reading: 2000/5780  of train images\n",
      "Reading: 2100/5780  of train images\n",
      "Reading: 2200/5780  of train images\n",
      "Reading: 2300/5780  of train images\n",
      "Reading: 2400/5780  of train images\n",
      "Reading: 2500/5780  of train images\n",
      "Reading: 2600/5780  of train images\n",
      "Reading: 2700/5780  of train images\n",
      "Reading: 2800/5780  of train images\n",
      "Reading: 2900/5780  of train images\n",
      "Reading: 3000/5780  of train images\n",
      "Reading: 3100/5780  of train images\n",
      "Reading: 3200/5780  of train images\n",
      "Reading: 3300/5780  of train images\n",
      "Reading: 3400/5780  of train images\n",
      "Reading: 3500/5780  of train images\n",
      "Reading: 3600/5780  of train images\n",
      "Reading: 3700/5780  of train images\n",
      "Reading: 3800/5780  of train images\n",
      "Reading: 3900/5780  of train images\n",
      "Reading: 4000/5780  of train images\n",
      "Reading: 4100/5780  of train images\n",
      "Reading: 4200/5780  of train images\n",
      "Reading: 4300/5780  of train images\n",
      "Reading: 4400/5780  of train images\n",
      "Reading: 4500/5780  of train images\n",
      "Reading: 4600/5780  of train images\n",
      "Reading: 4700/5780  of train images\n",
      "Reading: 4800/5780  of train images\n",
      "Reading: 4900/5780  of train images\n",
      "Reading: 5000/5780  of train images\n",
      "Reading: 5100/5780  of train images\n",
      "Reading: 5200/5780  of train images\n",
      "Reading: 5300/5780  of train images\n",
      "Reading: 5400/5780  of train images\n",
      "Reading: 5500/5780  of train images\n",
      "Reading: 5600/5780  of train images\n",
      "Reading: 5700/5780  of train images\n",
      "Reading: 0/450  of train images\n",
      "Reading: 100/450  of train images\n",
      "Reading: 200/450  of train images\n",
      "Reading: 300/450  of train images\n",
      "Reading: 400/450  of train images\n"
     ]
    }
   ],
   "source": [
    "img_w, img_h = 128, 128 # Setting the width and heights of the images.\n",
    "data_path = '/DL_course_data/Lab1/X_ray/' # Path to data root with two subdirs.\n",
    "train_data_path = os.path.join(data_path, 'train')\n",
    "test_data_path = os.path.join(data_path, 'test')\n",
    "train_list = os.listdir(train_data_path)\n",
    "test_list = os.listdir(test_data_path)\n",
    "x_train, x_test, y_train, y_test = get_train_test_arrays(\n",
    "     train_data_path, test_data_path,\n",
    "     train_list, test_list, img_h, img_w)"
   ]
  },
  {
   "cell_type": "code",
   "execution_count": 18,
   "metadata": {},
   "outputs": [
    {
     "name": "stdout",
     "output_type": "stream",
     "text": [
      "(5780,) (5780, 128, 128, 1) (450, 128, 128, 1) (450,)\n"
     ]
    }
   ],
   "source": [
    "print(y_train.shape,x_train.shape,x_test.shape,y_test.shape)\n"
   ]
  },
  {
   "cell_type": "code",
   "execution_count": 19,
   "metadata": {},
   "outputs": [
    {
     "name": "stdout",
     "output_type": "stream",
     "text": [
      "[4 3 6 4 1 2 3 7 3 0 2 6 6 4 2 7 5 5 5 3 0 2 8 5 4 8 1 5 4 1 3 0 7 1 0 7 8\n",
      " 6 1 8 2 0 5 5 3 8 0 0 5 7 4 0 8 0 6 2 4 0 1 4 3 8 7 8 0 0 0 3 5 3 7 8 2 7\n",
      " 4 7 7 8 6 8 4 4 7 6 1 0 5 4 8 7 3 0 8 2 6 0 5 5 0 6 0 5 8 6 1 0 7 2 8 5 7\n",
      " 2 1 0 5 0 1 8 4 3 3 5 4 5 6 4 4 1 5 7 5 5 6 6 3 1 8 2 6 4 5 2 6 1 1 8 5 4\n",
      " 6 1 7 4 3 1 7 1 7 1 7 6 8 0 3 6 4 4 4 2 6 8 2 4 2 6 2 2 1 4 1 7 8 8 5 7 2\n",
      " 7 7 5 7 2 3 8 8 2 7 6 8 6 8 5 6 2 3 0 4 2 6 3 8 4 3 1 3 0 6 3 4 8 8 1 0 4\n",
      " 4 1 3 3 3 8 2 3 0 1 0 0 2 8 4 7 4 2 6 7 2 6 7 6 4 7 0 4 7 2 4 7 1 1 3 8 0\n",
      " 5 4 8 3 5 2 4 1 3 5 2 0 5 2 6 6 5 7 2 4 0 3 8 7 5 2 1 6 3 8 8 1 7 2 8 4 0\n",
      " 6 1 5 2 3 3 2 7 3 1 3 0 0 4 7 0 0 2 4 7 7 7 6 3 2 3 2 0 1 4 1 0 1 6 0 1 0\n",
      " 7 0 2 2 2 5 5 6 8 2 2 3 4 1 7 3 2 5 1 6 7 3 3 8 1 2 5 2 7 4 6 6 2 0 5 7 3\n",
      " 1 3 2 7 0 6 5 3 0 3 2 6 2 5 6 5 6 5 1 1 6 1 4 5 1 1 3 1 0 1 4 8 0 1 0 8 6\n",
      " 6 6 0 8 3 6 4 8 5 6 1 6 7 8 8 5 5 5 1 6 4 5 5 3 0 8 3 4 3 5 1 8 5 8 8 7 4\n",
      " 8 7 7 3 7 4]\n"
     ]
    }
   ],
   "source": [
    "print(y_test)"
   ]
  },
  {
   "cell_type": "code",
   "execution_count": 20,
   "metadata": {},
   "outputs": [],
   "source": [
    "import tensorflow as tf"
   ]
  },
  {
   "cell_type": "markdown",
   "metadata": {},
   "source": [
    "One-hot"
   ]
  },
  {
   "cell_type": "code",
   "execution_count": 21,
   "metadata": {},
   "outputs": [],
   "source": [
    "y_test = np.eye(9)[y_test]\n",
    "y_train = np.eye(9)[y_train]"
   ]
  },
  {
   "cell_type": "code",
   "execution_count": 22,
   "metadata": {},
   "outputs": [
    {
     "name": "stdout",
     "output_type": "stream",
     "text": [
      "[[0. 0. 0. ... 0. 0. 0.]\n",
      " [0. 0. 0. ... 0. 0. 0.]\n",
      " [0. 0. 0. ... 1. 0. 0.]\n",
      " ...\n",
      " [0. 0. 0. ... 0. 0. 0.]\n",
      " [0. 0. 0. ... 0. 1. 0.]\n",
      " [0. 0. 0. ... 0. 0. 0.]]\n"
     ]
    }
   ],
   "source": [
    "print(y_test)"
   ]
  },
  {
   "cell_type": "code",
   "execution_count": 23,
   "metadata": {},
   "outputs": [
    {
     "name": "stdout",
     "output_type": "stream",
     "text": [
      "[[1. 0. 0. ... 0. 0. 0.]\n",
      " [0. 0. 0. ... 0. 0. 0.]\n",
      " [1. 0. 0. ... 0. 0. 0.]\n",
      " ...\n",
      " [0. 0. 1. ... 0. 0. 0.]\n",
      " [0. 0. 1. ... 0. 0. 0.]\n",
      " [1. 0. 0. ... 0. 0. 0.]]\n"
     ]
    }
   ],
   "source": [
    "print(y_train)"
   ]
  },
  {
   "cell_type": "code",
   "execution_count": 52,
   "metadata": {},
   "outputs": [],
   "source": [
    "from tensorflow.keras.layers import Input, Dense, Flatten \n",
    "from tensorflow.keras.models import Model\n",
    "from tensorflow.keras.optimizers import SGD, Adam\n",
    "from tensorflow.keras.models import Sequential\n",
    "from tensorflow.keras.layers import Conv2D, MaxPooling2D, Activation"
   ]
  },
  {
   "cell_type": "markdown",
   "metadata": {},
   "source": [
    "LeNet"
   ]
  },
  {
   "cell_type": "code",
   "execution_count": 53,
   "metadata": {},
   "outputs": [],
   "source": [
    "def model(img_width, img_height, img_ch, base):\n",
    "        \"\"\"\n",
    "        Functional API model.\n",
    "        name the last layer as \"out\"; e.g., out = ....\n",
    "        \"\"\"        \n",
    "        input_size = (img_width, img_height, img_ch)\n",
    "        inputs_layer = Input(shape=input_size, name='input_layer')\n",
    "        inputs_layer1 = inputs_layer\n",
    "\n",
    "        conv1 = Conv2D(base, kernel_size = (3, 3), activation='relu',\n",
    "                      strides=1, padding='same',\n",
    "                      input_shape = (img_width, img_height, img_ch))(inputs_layer1)\n",
    "        pool1 = MaxPooling2D(pool_size=(2, 2))(conv1)\n",
    "        conv2 = Conv2D(base*2, kernel_size = (3, 3), activation='relu',\n",
    "               strides=1, padding='same')(pool1)\n",
    "        pool2 = MaxPooling2D(pool_size=(2, 2))(conv2)\n",
    "\n",
    "        inputs_dense = Flatten()(pool2)\n",
    "        hidden4 = Dense(base*2, activation='relu')(inputs_dense)\n",
    "        out = Dense(9,activation='softmax')(hidden4)\n",
    "        model = Model(inputs=inputs_layer, outputs=out)\n",
    "        model.summary()\n",
    "        return model"
   ]
  },
  {
   "cell_type": "code",
   "execution_count": 54,
   "metadata": {},
   "outputs": [
    {
     "name": "stdout",
     "output_type": "stream",
     "text": [
      "Model: \"model_8\"\n",
      "_________________________________________________________________\n",
      "Layer (type)                 Output Shape              Param #   \n",
      "=================================================================\n",
      "input_layer (InputLayer)     [(None, 128, 128, 1)]     0         \n",
      "_________________________________________________________________\n",
      "conv2d_21 (Conv2D)           (None, 128, 128, 8)       80        \n",
      "_________________________________________________________________\n",
      "max_pooling2d_19 (MaxPooling (None, 64, 64, 8)         0         \n",
      "_________________________________________________________________\n",
      "conv2d_22 (Conv2D)           (None, 64, 64, 16)        1168      \n",
      "_________________________________________________________________\n",
      "max_pooling2d_20 (MaxPooling (None, 32, 32, 16)        0         \n",
      "_________________________________________________________________\n",
      "flatten_9 (Flatten)          (None, 16384)             0         \n",
      "_________________________________________________________________\n",
      "dense_19 (Dense)             (None, 16)                262160    \n",
      "_________________________________________________________________\n",
      "dense_20 (Dense)             (None, 9)                 153       \n",
      "=================================================================\n",
      "Total params: 263,561\n",
      "Trainable params: 263,561\n",
      "Non-trainable params: 0\n",
      "_________________________________________________________________\n"
     ]
    }
   ],
   "source": [
    "firstlayer =8\n",
    "batchsize = 4\n",
    "n_epochs = 20  # 20\n",
    "learningrate = 0.0001   #0.00001\n",
    "\n",
    "clf =  model(img_w, img_h,1,firstlayer)\n",
    "\n",
    "clf.compile(loss=tf.keras.losses.CategoricalCrossentropy(),\n",
    "              optimizer = Adam(lr = learningrate),\n",
    "               metrics=['acc'])"
   ]
  },
  {
   "cell_type": "code",
   "execution_count": 55,
   "metadata": {},
   "outputs": [
    {
     "name": "stdout",
     "output_type": "stream",
     "text": [
      "5780 450\n"
     ]
    }
   ],
   "source": [
    "train_count = len(train_list)\n",
    "test_count = len(test_list)\n",
    "print(train_count,test_count)"
   ]
  },
  {
   "cell_type": "code",
   "execution_count": 56,
   "metadata": {},
   "outputs": [],
   "source": [
    "steps_per_epoch = train_count//batchsize\n",
    "validation_steps = test_count//batchsize"
   ]
  },
  {
   "cell_type": "code",
   "execution_count": 57,
   "metadata": {},
   "outputs": [
    {
     "name": "stdout",
     "output_type": "stream",
     "text": [
      "Train on 5780 samples, validate on 450 samples\n",
      "Epoch 1/20\n",
      "5780/5780 [==============================] - 11s 2ms/sample - loss: 0.8688 - acc: 0.7133 - val_loss: 0.9054 - val_acc: 0.7111\n",
      "Epoch 2/20\n",
      "5780/5780 [==============================] - 10s 2ms/sample - loss: 0.3213 - acc: 0.8926 - val_loss: 0.5853 - val_acc: 0.8311\n",
      "Epoch 3/20\n",
      "5780/5780 [==============================] - 10s 2ms/sample - loss: 0.2446 - acc: 0.9147 - val_loss: 0.5123 - val_acc: 0.8444\n",
      "Epoch 4/20\n",
      "5780/5780 [==============================] - 10s 2ms/sample - loss: 0.2198 - acc: 0.9240 - val_loss: 0.4181 - val_acc: 0.8822\n",
      "Epoch 5/20\n",
      "5780/5780 [==============================] - 10s 2ms/sample - loss: 0.1988 - acc: 0.9292 - val_loss: 0.4684 - val_acc: 0.8578\n",
      "Epoch 6/20\n",
      "5780/5780 [==============================] - 10s 2ms/sample - loss: 0.1862 - acc: 0.9343 - val_loss: 0.3848 - val_acc: 0.8756\n",
      "Epoch 7/20\n",
      "5780/5780 [==============================] - 10s 2ms/sample - loss: 0.1731 - acc: 0.9386 - val_loss: 0.3503 - val_acc: 0.8978\n",
      "Epoch 8/20\n",
      "5780/5780 [==============================] - 10s 2ms/sample - loss: 0.1625 - acc: 0.9420 - val_loss: 0.3676 - val_acc: 0.8889\n",
      "Epoch 9/20\n",
      "5780/5780 [==============================] - 10s 2ms/sample - loss: 0.1553 - acc: 0.9419 - val_loss: 0.3419 - val_acc: 0.9000\n",
      "Epoch 10/20\n",
      "5780/5780 [==============================] - 10s 2ms/sample - loss: 0.1495 - acc: 0.9472 - val_loss: 0.3343 - val_acc: 0.8956\n",
      "Epoch 11/20\n",
      "5780/5780 [==============================] - 10s 2ms/sample - loss: 0.1373 - acc: 0.9472 - val_loss: 0.3943 - val_acc: 0.8844\n",
      "Epoch 12/20\n",
      "5780/5780 [==============================] - 10s 2ms/sample - loss: 0.1349 - acc: 0.9497 - val_loss: 0.3539 - val_acc: 0.8889\n",
      "Epoch 13/20\n",
      "5780/5780 [==============================] - 10s 2ms/sample - loss: 0.1358 - acc: 0.9493 - val_loss: 0.3521 - val_acc: 0.8933\n",
      "Epoch 14/20\n",
      "5780/5780 [==============================] - 10s 2ms/sample - loss: 0.1220 - acc: 0.9573 - val_loss: 0.3572 - val_acc: 0.9044\n",
      "Epoch 15/20\n",
      "5780/5780 [==============================] - 10s 2ms/sample - loss: 0.1210 - acc: 0.9561 - val_loss: 0.3179 - val_acc: 0.9133\n",
      "Epoch 16/20\n",
      "5780/5780 [==============================] - 10s 2ms/sample - loss: 0.1182 - acc: 0.9552 - val_loss: 0.3352 - val_acc: 0.9067\n",
      "Epoch 17/20\n",
      "5780/5780 [==============================] - 10s 2ms/sample - loss: 0.1090 - acc: 0.9592 - val_loss: 0.3896 - val_acc: 0.8867\n",
      "Epoch 18/20\n",
      "5780/5780 [==============================] - 10s 2ms/sample - loss: 0.1072 - acc: 0.9626 - val_loss: 0.4063 - val_acc: 0.8822\n",
      "Epoch 19/20\n",
      "5780/5780 [==============================] - 10s 2ms/sample - loss: 0.1028 - acc: 0.9616 - val_loss: 0.4016 - val_acc: 0.8889\n",
      "Epoch 20/20\n",
      "5780/5780 [==============================] - 10s 2ms/sample - loss: 0.0997 - acc: 0.9631 - val_loss: 0.3766 - val_acc: 0.8933\n"
     ]
    }
   ],
   "source": [
    "# clf_hist = clf.fit(x_train, y_train, epochs = n_epochs, \n",
    "#                    steps_per_epoch = steps_per_epoch,\n",
    "#                    batch_size = batchsize, validation_data = (x_test,y_test),\n",
    "#                    validation_steps = validation_steps)\n",
    "clf_hist = clf.fit(x_train, y_train, epochs = n_epochs, \n",
    "                   batch_size = batchsize, validation_data = (x_test,y_test))"
   ]
  },
  {
   "cell_type": "code",
   "execution_count": 58,
   "metadata": {},
   "outputs": [
    {
     "data": {
      "text/plain": [
       "dict_keys(['val_loss', 'acc', 'loss', 'val_acc'])"
      ]
     },
     "execution_count": 58,
     "metadata": {},
     "output_type": "execute_result"
    }
   ],
   "source": [
    "clf_hist.history.keys()"
   ]
  },
  {
   "cell_type": "code",
   "execution_count": 60,
   "metadata": {},
   "outputs": [
    {
     "data": {
      "image/png": "[encoded data removed]",
      "text/plain": [
       "<Figure size 288x288 with 1 Axes>"
      ]
     },
     "metadata": {
      "needs_background": "light"
     },
     "output_type": "display_data"
    },
    {
     "name": "stdout",
     "output_type": "stream",
     "text": [
      "the minimum var_loss is 0.31785493069781096\n",
      "the Best epoch nr is 14\n",
      "the maximum var_accuracy is 0.91333336\n",
      "the maximum train_accuracy is 0.9631488\n",
      "the Best epoch nr is 14\n"
     ]
    },
    {
     "data": {
      "image/png": "[encoded data removed]",
      "text/plain": [
       "<Figure size 288x288 with 1 Axes>"
      ]
     },
     "metadata": {
      "needs_background": "light"
     },
     "output_type": "display_data"
    }
   ],
   "source": [
    "import matplotlib.pyplot as plt\n",
    "plt.figure(figsize=(4, 4))\n",
    "plt.title(\"Learning curve\")\n",
    "plt.plot(clf_hist.history[\"loss\"], label=\"loss\")\n",
    "plt.plot(clf_hist.history[\"val_loss\"], label=\"val_loss\")\n",
    "plt.plot( np.argmin(clf_hist.history[\"val_loss\"]),\n",
    "     np.min(clf_hist.history[\"val_loss\"]),\n",
    "     marker=\"x\", color=\"r\", label=\"best model\")\n",
    "plt.xlabel(\"Epochs\")\n",
    "plt.ylabel(\"Loss Value\")\n",
    "plt.legend();\n",
    "plt.show()\n",
    "print('the minimum var_loss is', np.min(clf_hist.history[\"val_loss\"]))\n",
    "print('the Best epoch nr is', np.argmin(clf_hist.history[\"val_loss\"]))\n",
    "\n",
    "#Accuracy\n",
    "plt.figure(figsize=(4, 4))\n",
    "plt.title(\"Accuracy\")\n",
    "plt.plot(clf_hist.history[\"acc\"], label=\"acc\")\n",
    "plt.plot(clf_hist.history[\"val_acc\"], label=\"val_acc\")\n",
    "xmax = np.argmax(clf_hist.history[\"val_acc\"])\n",
    "ymax = np.max(clf_hist.history[\"val_acc\"])\n",
    "plt.plot( xmax, ymax, marker=\"x\", color=\"r\", label=\"best model\")\n",
    "plt.annotate('(' + str(xmax) + ', '+ str(round(ymax,2)) + ')', xy = (xmax, ymax + 0.01),\n",
    "             horizontalalignment = \"center\", verticalalignment = \"bottom\", color = \"red\")\n",
    "plt.xlabel(\"Epochs\")\n",
    "plt.ylabel(\"Loss Value\")\n",
    "plt.legend();\n",
    "print('the maximum var_accuracy is', np.max(clf_hist.history[\"val_acc\"]))\n",
    "print('the maximum train_accuracy is', np.max(clf_hist.history[\"acc\"]))\n",
    "print('the Best epoch nr is', xmax)"
   ]
  },
  {
   "cell_type": "markdown",
   "metadata": {},
   "source": [
    "AlexNet"
   ]
  },
  {
   "cell_type": "code",
   "execution_count": 65,
   "metadata": {},
   "outputs": [],
   "source": [
    "def model(img_ch, img_width, img_height, n_base):\n",
    " \n",
    "     model = Sequential()\n",
    " \n",
    "     model.add(Conv2D(filters=n_base, input_shape=(img_width, img_height, img_ch),\n",
    "                 kernel_size=(3,3), strides=(1,1), padding='same'))\n",
    "     model.add(Activation('relu'))\n",
    "     model.add(MaxPooling2D(pool_size=(2,2)))\n",
    "     model.add(Conv2D(filters= n_base *2, kernel_size=(3,3), strides=(1,1), padding='same'))\n",
    "     model.add(Activation('relu'))\n",
    "     model.add(MaxPooling2D(pool_size=(2,2)))\n",
    "     model.add(Conv2D(filters= n_base *4, kernel_size=(3,3), strides=(1,1), padding='same'))\n",
    "     model.add(Activation('relu'))\n",
    "     model.add(Conv2D(filters= n_base *4, kernel_size=(3,3), strides=(1,1), padding='same'))\n",
    "     model.add(Activation('relu'))\n",
    "     model.add(Conv2D(filters= n_base *2, kernel_size=(3,3), strides=(1,1), padding='same'))\n",
    "     model.add(Activation('relu'))\n",
    "     model.add(MaxPooling2D(pool_size=(2,2)))\n",
    "     model.add(Flatten())\n",
    "     model.add(Dense(128))\n",
    "     model.add(Activation('relu'))\n",
    "     model.add(Dense(64))\n",
    "     model.add(Activation('relu'))\n",
    "        \n",
    "     model.add(Dense(9))\n",
    "     model.add(Activation('softmax'))\n",
    "     model.summary() \n",
    "     return model"
   ]
  },
  {
   "cell_type": "code",
   "execution_count": 66,
   "metadata": {},
   "outputs": [
    {
     "name": "stdout",
     "output_type": "stream",
     "text": [
      "Model: \"sequential_2\"\n",
      "_________________________________________________________________\n",
      "Layer (type)                 Output Shape              Param #   \n",
      "=================================================================\n",
      "conv2d_24 (Conv2D)           (None, 128, 128, 8)       80        \n",
      "_________________________________________________________________\n",
      "activation_9 (Activation)    (None, 128, 128, 8)       0         \n",
      "_________________________________________________________________\n",
      "max_pooling2d_22 (MaxPooling (None, 64, 64, 8)         0         \n",
      "_________________________________________________________________\n",
      "conv2d_25 (Conv2D)           (None, 64, 64, 16)        1168      \n",
      "_________________________________________________________________\n",
      "activation_10 (Activation)   (None, 64, 64, 16)        0         \n",
      "_________________________________________________________________\n",
      "max_pooling2d_23 (MaxPooling (None, 32, 32, 16)        0         \n",
      "_________________________________________________________________\n",
      "conv2d_26 (Conv2D)           (None, 32, 32, 32)        4640      \n",
      "_________________________________________________________________\n",
      "activation_11 (Activation)   (None, 32, 32, 32)        0         \n",
      "_________________________________________________________________\n",
      "conv2d_27 (Conv2D)           (None, 32, 32, 32)        9248      \n",
      "_________________________________________________________________\n",
      "activation_12 (Activation)   (None, 32, 32, 32)        0         \n",
      "_________________________________________________________________\n",
      "conv2d_28 (Conv2D)           (None, 32, 32, 16)        4624      \n",
      "_________________________________________________________________\n",
      "activation_13 (Activation)   (None, 32, 32, 16)        0         \n",
      "_________________________________________________________________\n",
      "max_pooling2d_24 (MaxPooling (None, 16, 16, 16)        0         \n",
      "_________________________________________________________________\n",
      "flatten_10 (Flatten)         (None, 4096)              0         \n",
      "_________________________________________________________________\n",
      "dense_21 (Dense)             (None, 128)               524416    \n",
      "_________________________________________________________________\n",
      "activation_14 (Activation)   (None, 128)               0         \n",
      "_________________________________________________________________\n",
      "dense_22 (Dense)             (None, 64)                8256      \n",
      "_________________________________________________________________\n",
      "activation_15 (Activation)   (None, 64)                0         \n",
      "_________________________________________________________________\n",
      "dense_23 (Dense)             (None, 9)                 585       \n",
      "_________________________________________________________________\n",
      "activation_16 (Activation)   (None, 9)                 0         \n",
      "=================================================================\n",
      "Total params: 553,017\n",
      "Trainable params: 553,017\n",
      "Non-trainable params: 0\n",
      "_________________________________________________________________\n",
      "Train on 5780 samples, validate on 450 samples\n",
      "Epoch 1/20\n",
      "5780/5780 [==============================] - 12s 2ms/sample - loss: 0.5627 - acc: 0.8083 - val_loss: 0.3893 - val_acc: 0.8667\n",
      "Epoch 2/20\n",
      "5780/5780 [==============================] - 11s 2ms/sample - loss: 0.2327 - acc: 0.9164 - val_loss: 0.3834 - val_acc: 0.8711\n",
      "Epoch 3/20\n",
      "5780/5780 [==============================] - 11s 2ms/sample - loss: 0.1877 - acc: 0.9360 - val_loss: 0.2565 - val_acc: 0.8978\n",
      "Epoch 4/20\n",
      "5780/5780 [==============================] - 11s 2ms/sample - loss: 0.1652 - acc: 0.9388 - val_loss: 0.2510 - val_acc: 0.9178\n",
      "Epoch 5/20\n",
      "5780/5780 [==============================] - 11s 2ms/sample - loss: 0.1447 - acc: 0.9493 - val_loss: 0.2747 - val_acc: 0.9067\n",
      "Epoch 6/20\n",
      "5780/5780 [==============================] - 11s 2ms/sample - loss: 0.1282 - acc: 0.9516 - val_loss: 0.2519 - val_acc: 0.9222\n",
      "Epoch 7/20\n",
      "5780/5780 [==============================] - 11s 2ms/sample - loss: 0.1179 - acc: 0.9566 - val_loss: 0.2888 - val_acc: 0.8978\n",
      "Epoch 8/20\n",
      "5780/5780 [==============================] - 11s 2ms/sample - loss: 0.1067 - acc: 0.9593 - val_loss: 0.2164 - val_acc: 0.9311\n",
      "Epoch 9/20\n",
      "5780/5780 [==============================] - 11s 2ms/sample - loss: 0.0986 - acc: 0.9607 - val_loss: 0.2112 - val_acc: 0.9178\n",
      "Epoch 10/20\n",
      "5780/5780 [==============================] - 11s 2ms/sample - loss: 0.0905 - acc: 0.9623 - val_loss: 0.2241 - val_acc: 0.9333\n",
      "Epoch 11/20\n",
      "5780/5780 [==============================] - 11s 2ms/sample - loss: 0.0869 - acc: 0.9654 - val_loss: 0.2340 - val_acc: 0.9267\n",
      "Epoch 12/20\n",
      "5780/5780 [==============================] - 11s 2ms/sample - loss: 0.0778 - acc: 0.9696 - val_loss: 0.2194 - val_acc: 0.9333\n",
      "Epoch 13/20\n",
      "5780/5780 [==============================] - 11s 2ms/sample - loss: 0.0690 - acc: 0.9730 - val_loss: 0.2233 - val_acc: 0.9289\n",
      "Epoch 14/20\n",
      "5780/5780 [==============================] - 11s 2ms/sample - loss: 0.0716 - acc: 0.9704 - val_loss: 0.2301 - val_acc: 0.9400\n",
      "Epoch 15/20\n",
      "5780/5780 [==============================] - 11s 2ms/sample - loss: 0.0658 - acc: 0.9732 - val_loss: 0.2820 - val_acc: 0.9267\n",
      "Epoch 16/20\n",
      "5780/5780 [==============================] - 11s 2ms/sample - loss: 0.0619 - acc: 0.9744 - val_loss: 0.3014 - val_acc: 0.9222\n",
      "Epoch 17/20\n",
      "5780/5780 [==============================] - 11s 2ms/sample - loss: 0.0524 - acc: 0.9789 - val_loss: 0.2955 - val_acc: 0.9422\n",
      "Epoch 18/20\n",
      "5780/5780 [==============================] - 11s 2ms/sample - loss: 0.0514 - acc: 0.9792 - val_loss: 0.2937 - val_acc: 0.9267\n",
      "Epoch 19/20\n",
      "5780/5780 [==============================] - 11s 2ms/sample - loss: 0.0447 - acc: 0.9817 - val_loss: 0.2333 - val_acc: 0.9511\n",
      "Epoch 20/20\n",
      "5780/5780 [==============================] - 11s 2ms/sample - loss: 0.0471 - acc: 0.9839 - val_loss: 0.2451 - val_acc: 0.9467\n"
     ]
    }
   ],
   "source": [
    "firstlayer =8\n",
    "batchsize = 4\n",
    "n_epochs = 20  # 20\n",
    "learningrate = 0.0001   #0.00001\n",
    "\n",
    "clf =  model(1,img_w, img_h,firstlayer)\n",
    "\n",
    "clf.compile(loss=tf.keras.losses.CategoricalCrossentropy(),\n",
    "              optimizer = Adam(lr = learningrate),\n",
    "               metrics=['acc'])\n",
    "clf_hist = clf.fit(x_train, y_train, epochs = n_epochs, \n",
    "                   batch_size = batchsize, validation_data = (x_test,y_test))\n"
   ]
  },
  {
   "cell_type": "code",
   "execution_count": 67,
   "metadata": {},
   "outputs": [
    {
     "data": {
      "image/png": "[encoded data removed]",
      "text/plain": [
       "<Figure size 288x288 with 1 Axes>"
      ]
     },
     "metadata": {
      "needs_background": "light"
     },
     "output_type": "display_data"
    },
    {
     "name": "stdout",
     "output_type": "stream",
     "text": [
      "the minimum var_loss is 0.2111638435584286\n",
      "the Best epoch nr is 8\n",
      "the maximum var_accuracy is 0.95111114\n",
      "the maximum train_accuracy is 0.98391\n",
      "the Best epoch nr is 18\n"
     ]
    },
    {
     "data": {
      "image/png": "[encoded data removed]",
      "text/plain": [
       "<Figure size 288x288 with 1 Axes>"
      ]
     },
     "metadata": {
      "needs_background": "light"
     },
     "output_type": "display_data"
    }
   ],
   "source": [
    "import matplotlib.pyplot as plt\n",
    "plt.figure(figsize=(4, 4))\n",
    "plt.title(\"Learning curve\")\n",
    "plt.plot(clf_hist.history[\"loss\"], label=\"loss\")\n",
    "plt.plot(clf_hist.history[\"val_loss\"], label=\"val_loss\")\n",
    "plt.plot( np.argmin(clf_hist.history[\"val_loss\"]),\n",
    "     np.min(clf_hist.history[\"val_loss\"]),\n",
    "     marker=\"x\", color=\"r\", label=\"best model\")\n",
    "plt.xlabel(\"Epochs\")\n",
    "plt.ylabel(\"Loss Value\")\n",
    "plt.legend();\n",
    "plt.show()\n",
    "print('the minimum var_loss is', np.min(clf_hist.history[\"val_loss\"]))\n",
    "print('the Best epoch nr is', np.argmin(clf_hist.history[\"val_loss\"]))\n",
    "\n",
    "#Accuracy\n",
    "plt.figure(figsize=(4, 4))\n",
    "plt.title(\"Accuracy\")\n",
    "plt.plot(clf_hist.history[\"acc\"], label=\"acc\")\n",
    "plt.plot(clf_hist.history[\"val_acc\"], label=\"val_acc\")\n",
    "xmax = np.argmax(clf_hist.history[\"val_acc\"])\n",
    "ymax = np.max(clf_hist.history[\"val_acc\"])\n",
    "plt.plot( xmax, ymax, marker=\"x\", color=\"r\", label=\"best model\")\n",
    "plt.annotate('(' + str(xmax) + ', '+ str(round(ymax,2)) + ')', xy = (xmax, ymax + 0.01),\n",
    "             horizontalalignment = \"center\", verticalalignment = \"bottom\", color = \"red\")\n",
    "plt.xlabel(\"Epochs\")\n",
    "plt.ylabel(\"Loss Value\")\n",
    "plt.legend();\n",
    "print('the maximum var_accuracy is', np.max(clf_hist.history[\"val_acc\"]))\n",
    "print('the maximum train_accuracy is', np.max(clf_hist.history[\"acc\"]))\n",
    "print('the Best epoch nr is', xmax)"
   ]
  },
  {
   "cell_type": "code",
   "execution_count": null,
   "metadata": {},
   "outputs": [],
   "source": []
  }
 ],
 "metadata": {
  "kernelspec": {
   "display_name": "Python 3",
   "language": "python",
   "name": "python3"
  },
  "language_info": {
   "codemirror_mode": {
    "name": "ipython",
    "version": 3
   },
   "file_extension": ".py",
   "mimetype": "text/x-python",
   "name": "python",
   "nbconvert_exporter": "python",
   "pygments_lexer": "ipython3",
   "version": "3.5.2"
  }
 },
 "nbformat": 4,
 "nbformat_minor": 2
}
